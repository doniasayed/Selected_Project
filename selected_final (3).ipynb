{
  "cells": [
    {
      "cell_type": "code",
      "execution_count": null,
      "metadata": {
        "id": "5ZWM0DToPx7-"
      },
      "outputs": [],
      "source": [
        "import os\n",
        "import pathlib\n",
        "import shutil\n",
        "import cv2\n",
        "import gc\n",
        "import keras\n",
        "import numpy as np\n",
        "import pandas as pd\n",
        "from keras.applications.mobilenet import MobileNet\n",
        "from keras.callbacks import EarlyStopping, ModelCheckpoint, ReduceLROnPlateau\n",
        "from keras.layers import (BatchNormalization, Dense, Dropout, Flatten)\n",
        "from keras.metrics import categorical_accuracy, top_k_categorical_accuracy\n",
        "from keras.models import Sequential\n",
        "from keras.preprocessing.image import ImageDataGenerator\n",
        "from keras.optimizers import Adam\n",
        "from matplotlib import pyplot as plt\n",
        "from sklearn.metrics import confusion_matrix, f1_score\n",
        "from sklearn.model_selection import train_test_split\n",
        "import random\n",
        "from keras.layers import Dense, Dropout, Flatten, Conv2D, MaxPool2D"
      ]
    },
    {
      "cell_type": "code",
      "execution_count": null,
      "metadata": {
        "colab": {
          "base_uri": "https://localhost:8080/",
          "height": 90
        },
        "id": "Lz2A2wAtQBM7",
        "outputId": "b08e0579-76d8-4fe2-af8f-5eb4fc5899b9"
      },
      "outputs": [
        {
          "output_type": "display_data",
          "data": {
            "text/plain": [
              "<IPython.core.display.HTML object>"
            ],
            "text/html": [
              "\n",
              "     <input type=\"file\" id=\"files-d486497f-b341-4327-ade2-9d2e1ac922dd\" name=\"files[]\" multiple disabled\n",
              "        style=\"border:none\" />\n",
              "     <output id=\"result-d486497f-b341-4327-ade2-9d2e1ac922dd\">\n",
              "      Upload widget is only available when the cell has been executed in the\n",
              "      current browser session. Please rerun this cell to enable.\n",
              "      </output>\n",
              "      <script>// Copyright 2017 Google LLC\n",
              "//\n",
              "// Licensed under the Apache License, Version 2.0 (the \"License\");\n",
              "// you may not use this file except in compliance with the License.\n",
              "// You may obtain a copy of the License at\n",
              "//\n",
              "//      http://www.apache.org/licenses/LICENSE-2.0\n",
              "//\n",
              "// Unless required by applicable law or agreed to in writing, software\n",
              "// distributed under the License is distributed on an \"AS IS\" BASIS,\n",
              "// WITHOUT WARRANTIES OR CONDITIONS OF ANY KIND, either express or implied.\n",
              "// See the License for the specific language governing permissions and\n",
              "// limitations under the License.\n",
              "\n",
              "/**\n",
              " * @fileoverview Helpers for google.colab Python module.\n",
              " */\n",
              "(function(scope) {\n",
              "function span(text, styleAttributes = {}) {\n",
              "  const element = document.createElement('span');\n",
              "  element.textContent = text;\n",
              "  for (const key of Object.keys(styleAttributes)) {\n",
              "    element.style[key] = styleAttributes[key];\n",
              "  }\n",
              "  return element;\n",
              "}\n",
              "\n",
              "// Max number of bytes which will be uploaded at a time.\n",
              "const MAX_PAYLOAD_SIZE = 100 * 1024;\n",
              "\n",
              "function _uploadFiles(inputId, outputId) {\n",
              "  const steps = uploadFilesStep(inputId, outputId);\n",
              "  const outputElement = document.getElementById(outputId);\n",
              "  // Cache steps on the outputElement to make it available for the next call\n",
              "  // to uploadFilesContinue from Python.\n",
              "  outputElement.steps = steps;\n",
              "\n",
              "  return _uploadFilesContinue(outputId);\n",
              "}\n",
              "\n",
              "// This is roughly an async generator (not supported in the browser yet),\n",
              "// where there are multiple asynchronous steps and the Python side is going\n",
              "// to poll for completion of each step.\n",
              "// This uses a Promise to block the python side on completion of each step,\n",
              "// then passes the result of the previous step as the input to the next step.\n",
              "function _uploadFilesContinue(outputId) {\n",
              "  const outputElement = document.getElementById(outputId);\n",
              "  const steps = outputElement.steps;\n",
              "\n",
              "  const next = steps.next(outputElement.lastPromiseValue);\n",
              "  return Promise.resolve(next.value.promise).then((value) => {\n",
              "    // Cache the last promise value to make it available to the next\n",
              "    // step of the generator.\n",
              "    outputElement.lastPromiseValue = value;\n",
              "    return next.value.response;\n",
              "  });\n",
              "}\n",
              "\n",
              "/**\n",
              " * Generator function which is called between each async step of the upload\n",
              " * process.\n",
              " * @param {string} inputId Element ID of the input file picker element.\n",
              " * @param {string} outputId Element ID of the output display.\n",
              " * @return {!Iterable<!Object>} Iterable of next steps.\n",
              " */\n",
              "function* uploadFilesStep(inputId, outputId) {\n",
              "  const inputElement = document.getElementById(inputId);\n",
              "  inputElement.disabled = false;\n",
              "\n",
              "  const outputElement = document.getElementById(outputId);\n",
              "  outputElement.innerHTML = '';\n",
              "\n",
              "  const pickedPromise = new Promise((resolve) => {\n",
              "    inputElement.addEventListener('change', (e) => {\n",
              "      resolve(e.target.files);\n",
              "    });\n",
              "  });\n",
              "\n",
              "  const cancel = document.createElement('button');\n",
              "  inputElement.parentElement.appendChild(cancel);\n",
              "  cancel.textContent = 'Cancel upload';\n",
              "  const cancelPromise = new Promise((resolve) => {\n",
              "    cancel.onclick = () => {\n",
              "      resolve(null);\n",
              "    };\n",
              "  });\n",
              "\n",
              "  // Wait for the user to pick the files.\n",
              "  const files = yield {\n",
              "    promise: Promise.race([pickedPromise, cancelPromise]),\n",
              "    response: {\n",
              "      action: 'starting',\n",
              "    }\n",
              "  };\n",
              "\n",
              "  cancel.remove();\n",
              "\n",
              "  // Disable the input element since further picks are not allowed.\n",
              "  inputElement.disabled = true;\n",
              "\n",
              "  if (!files) {\n",
              "    return {\n",
              "      response: {\n",
              "        action: 'complete',\n",
              "      }\n",
              "    };\n",
              "  }\n",
              "\n",
              "  for (const file of files) {\n",
              "    const li = document.createElement('li');\n",
              "    li.append(span(file.name, {fontWeight: 'bold'}));\n",
              "    li.append(span(\n",
              "        `(${file.type || 'n/a'}) - ${file.size} bytes, ` +\n",
              "        `last modified: ${\n",
              "            file.lastModifiedDate ? file.lastModifiedDate.toLocaleDateString() :\n",
              "                                    'n/a'} - `));\n",
              "    const percent = span('0% done');\n",
              "    li.appendChild(percent);\n",
              "\n",
              "    outputElement.appendChild(li);\n",
              "\n",
              "    const fileDataPromise = new Promise((resolve) => {\n",
              "      const reader = new FileReader();\n",
              "      reader.onload = (e) => {\n",
              "        resolve(e.target.result);\n",
              "      };\n",
              "      reader.readAsArrayBuffer(file);\n",
              "    });\n",
              "    // Wait for the data to be ready.\n",
              "    let fileData = yield {\n",
              "      promise: fileDataPromise,\n",
              "      response: {\n",
              "        action: 'continue',\n",
              "      }\n",
              "    };\n",
              "\n",
              "    // Use a chunked sending to avoid message size limits. See b/62115660.\n",
              "    let position = 0;\n",
              "    do {\n",
              "      const length = Math.min(fileData.byteLength - position, MAX_PAYLOAD_SIZE);\n",
              "      const chunk = new Uint8Array(fileData, position, length);\n",
              "      position += length;\n",
              "\n",
              "      const base64 = btoa(String.fromCharCode.apply(null, chunk));\n",
              "      yield {\n",
              "        response: {\n",
              "          action: 'append',\n",
              "          file: file.name,\n",
              "          data: base64,\n",
              "        },\n",
              "      };\n",
              "\n",
              "      let percentDone = fileData.byteLength === 0 ?\n",
              "          100 :\n",
              "          Math.round((position / fileData.byteLength) * 100);\n",
              "      percent.textContent = `${percentDone}% done`;\n",
              "\n",
              "    } while (position < fileData.byteLength);\n",
              "  }\n",
              "\n",
              "  // All done.\n",
              "  yield {\n",
              "    response: {\n",
              "      action: 'complete',\n",
              "    }\n",
              "  };\n",
              "}\n",
              "\n",
              "scope.google = scope.google || {};\n",
              "scope.google.colab = scope.google.colab || {};\n",
              "scope.google.colab._files = {\n",
              "  _uploadFiles,\n",
              "  _uploadFilesContinue,\n",
              "};\n",
              "})(self);\n",
              "</script> "
            ]
          },
          "metadata": {}
        },
        {
          "output_type": "stream",
          "name": "stdout",
          "text": [
            "Saving kaggle.json to kaggle.json\n",
            "User uploaded file \"kaggle.json\" with length 66 bytes\n"
          ]
        }
      ],
      "source": [
        "from google.colab import files\n",
        "\n",
        "uploaded = files.upload()\n",
        "\n",
        "for fn in uploaded.keys():\n",
        "  print('User uploaded file \"{name}\" with length {length} bytes'.format(\n",
        "      name=fn, length=len(uploaded[fn])))\n",
        "  \n",
        "# Then move kaggle.json into the folder where the API expects to find it.\n",
        "!mkdir -p ~/.kaggle/ && mv kaggle.json ~/.kaggle/ && chmod 600 ~/.kaggle/kaggle.json"
      ]
    },
    {
      "cell_type": "code",
      "execution_count": null,
      "metadata": {
        "colab": {
          "base_uri": "https://localhost:8080/"
        },
        "id": "9xfN_hBZQn8a",
        "outputId": "c060745f-e479-48d4-80f9-f065a1d9d4f2"
      },
      "outputs": [
        {
          "output_type": "stream",
          "name": "stdout",
          "text": [
            "Downloading skin-cancer9-classesisic.zip to /content\n",
            "100% 784M/786M [00:07<00:00, 55.9MB/s]\n",
            "100% 786M/786M [00:07<00:00, 111MB/s] \n"
          ]
        }
      ],
      "source": [
        "!kaggle datasets download -d nodoubttome/skin-cancer9-classesisic"
      ]
    },
    {
      "cell_type": "code",
      "execution_count": null,
      "metadata": {
        "colab": {
          "base_uri": "https://localhost:8080/"
        },
        "id": "IQmlwQroQ0gL",
        "outputId": "065f53c4-9abb-41b6-ba81-0853ca0ad179"
      },
      "outputs": [
        {
          "output_type": "stream",
          "name": "stdout",
          "text": [
            "Done\n"
          ]
        }
      ],
      "source": [
        "from zipfile import ZipFile\n",
        "file_name = \"/content/skin-cancer9-classesisic.zip\"\n",
        "with ZipFile(file_name,'r') as zip:\n",
        "  zip.extractall()\n",
        "  print('Done')"
      ]
    },
    {
      "cell_type": "code",
      "source": [
        "!pip install split-folders\n"
      ],
      "metadata": {
        "colab": {
          "base_uri": "https://localhost:8080/"
        },
        "id": "2C5icvFSt_ZU",
        "outputId": "ca79cc6d-80b4-4c70-f26e-65c031eff9c8"
      },
      "execution_count": null,
      "outputs": [
        {
          "output_type": "stream",
          "name": "stdout",
          "text": [
            "Looking in indexes: https://pypi.org/simple, https://us-python.pkg.dev/colab-wheels/public/simple/\n",
            "Collecting split-folders\n",
            "  Downloading split_folders-0.5.1-py3-none-any.whl (8.4 kB)\n",
            "Installing collected packages: split-folders\n",
            "Successfully installed split-folders-0.5.1\n"
          ]
        }
      ]
    },
    {
      "cell_type": "code",
      "source": [
        "import splitfolders\n",
        "\n",
        "splitfolders.ratio(\"/content/Skin cancer ISIC The International Skin Imaging Collaboration/Train\", # The location of dataset\n",
        "                   output=\"{output_directory}\", # The output location\n",
        "                   seed=42, # The number of seed\n",
        "                   ratio=(.7,.2,.1), # The ratio of splited dataset\n",
        "                   group_prefix=None, # If your dataset contains more than one file like \".jpg\", \".pdf\", etc\n",
        "                   move=False # If you choose to move, turn this into True\n",
        "                   )"
      ],
      "metadata": {
        "id": "fnTCN0j2tOU2",
        "colab": {
          "base_uri": "https://localhost:8080/"
        },
        "outputId": "a5b9d93e-78b4-4b48-a4a4-0a5a29c31e12"
      },
      "execution_count": null,
      "outputs": [
        {
          "output_type": "stream",
          "name": "stderr",
          "text": [
            "Copying files: 2239 files [00:01, 1167.75 files/s]\n"
          ]
        }
      ]
    },
    {
      "cell_type": "code",
      "execution_count": null,
      "metadata": {
        "id": "_zR3131rQ8ec"
      },
      "outputs": [],
      "source": [
        "data_dir_train = pathlib.Path(\"/content/Skin cancer ISIC The International Skin Imaging Collaboration/Train\")\n",
        "data_dir_test = pathlib.Path(\"/content/Skin cancer ISIC The International Skin Imaging Collaboration/Test\")\n",
        "data_dir_val = pathlib.Path(\"/content/{output_directory}/val\")"
      ]
    },
    {
      "cell_type": "code",
      "execution_count": null,
      "metadata": {
        "colab": {
          "base_uri": "https://localhost:8080/"
        },
        "id": "xJPn9tl5Q-Io",
        "outputId": "8b7afc71-5880-4427-f42d-7bcafb4b1d76"
      },
      "outputs": [
        {
          "output_type": "stream",
          "name": "stdout",
          "text": [
            "2239\n",
            "118\n",
            "444\n"
          ]
        }
      ],
      "source": [
        "image_count_train = len(list(data_dir_train.glob('*/*.jpg')))\n",
        "print(image_count_train)\n",
        "image_count_test = len(list(data_dir_test.glob('*/*.jpg')))\n",
        "print(image_count_test)\n",
        "image_count_val = len(list(data_dir_val.glob('*/*.jpg')))\n",
        "print(image_count_val)"
      ]
    },
    {
      "cell_type": "code",
      "execution_count": null,
      "metadata": {
        "colab": {
          "base_uri": "https://localhost:8080/"
        },
        "id": "cYr0gEd9RraF",
        "outputId": "27c7bae2-5f25-4a5b-9404-5e64a2bd975a"
      },
      "outputs": [
        {
          "output_type": "stream",
          "name": "stdout",
          "text": [
            "['actinic keratosis', 'basal cell carcinoma', 'dermatofibroma', 'melanoma', 'nevus', 'pigmented benign keratosis', 'seborrheic keratosis', 'squamous cell carcinoma', 'vascular lesion']\n"
          ]
        }
      ],
      "source": [
        "class_names = ['actinic keratosis', 'basal cell carcinoma', 'dermatofibroma', 'melanoma', 'nevus', 'pigmented benign keratosis', 'seborrheic keratosis', 'squamous cell carcinoma', 'vascular lesion']\n",
        "print(class_names)"
      ]
    },
    {
      "cell_type": "code",
      "execution_count": null,
      "metadata": {
        "colab": {
          "base_uri": "https://localhost:8080/"
        },
        "id": "q_6pX1HEKrlO",
        "outputId": "0161e7cb-6ace-4b5f-e590-218d79813506"
      },
      "outputs": [
        {
          "output_type": "stream",
          "name": "stdout",
          "text": [
            "actinic keratosis train: 114\n",
            "basal cell carcinoma train: 376\n",
            "dermatofibroma train: 95\n",
            "melanoma train: 438\n",
            "nevus train: 357\n",
            "pigmented benign keratosis train: 462\n",
            "seborrheic keratosis train: 77\n",
            "squamous cell carcinoma train: 181\n",
            "vascular lesion train: 139\n",
            "\n",
            "\n",
            "actinic keratosis val: 22\n",
            "basal cell carcinoma val: 75\n",
            "dermatofibroma val: 19\n",
            "melanoma val: 87\n",
            "nevus val: 71\n",
            "pigmented benign keratosis val: 92\n",
            "seborrheic keratosis val: 15\n",
            "squamous cell carcinoma val: 36\n",
            "vascular lesion val: 27\n",
            "\n",
            "\n",
            "actinic keratosis test: 16\n",
            "basal cell carcinoma test: 16\n",
            "dermatofibroma test: 16\n",
            "melanoma test: 16\n",
            "nevus test: 16\n",
            "pigmented benign keratosis test: 16\n",
            "seborrheic keratosis test: 3\n",
            "squamous cell carcinoma test: 16\n",
            "vascular lesion test: 3\n"
          ]
        }
      ],
      "source": [
        "for label in class_names:\n",
        "    print(label + \" train: \" + str(len(os.listdir(os.path.join(data_dir_train, label)))))\n",
        "print(\"\\n\")\n",
        "\n",
        "for label in class_names:\n",
        "    print(label + \" val: \" + str(len(os.listdir(os.path.join(data_dir_val, label)))))\n",
        "print(\"\\n\")\n",
        "\n",
        "for label in class_names:\n",
        "    print(label + \" test: \" + str(len(os.listdir(os.path.join(data_dir_test, label)))))"
      ]
    },
    {
      "cell_type": "code",
      "execution_count": null,
      "metadata": {
        "colab": {
          "base_uri": "https://localhost:8080/"
        },
        "id": "lU9rZ7XSVpaN",
        "outputId": "4fb4fba8-dee2-4c1b-d019-c16e0f21b4a7"
      },
      "outputs": [
        {
          "output_type": "stream",
          "name": "stdout",
          "text": [
            "Found 114 images belonging to 1 classes.\n",
            "Found 376 images belonging to 1 classes.\n",
            "Found 95 images belonging to 1 classes.\n",
            "Found 438 images belonging to 1 classes.\n",
            "Found 357 images belonging to 1 classes.\n",
            "Found 462 images belonging to 1 classes.\n",
            "Found 77 images belonging to 1 classes.\n",
            "Found 181 images belonging to 1 classes.\n",
            "Found 139 images belonging to 1 classes.\n"
          ]
        }
      ],
      "source": [
        "data_gen_param = {\n",
        "    \"rotation_range\": 180,\n",
        "    \"width_shift_range\": 0.1,\n",
        "    \"height_shift_range\": 0.1,\n",
        "    \"zoom_range\": 0.1,\n",
        "    \"horizontal_flip\": True,\n",
        "    \"vertical_flip\": True\n",
        "}\n",
        "data_generator = ImageDataGenerator(**data_gen_param)\n",
        "num_images_each_label = 6000\n",
        "base_dir =pathlib.Path(\"/content/Skin cancer ISIC The International Skin Imaging Collaboration\")\n",
        "aug_dir2 = os.path.join( base_dir, \"aug_dir2\")\n",
        "os.mkdir(aug_dir2)\n",
        "for label in class_names:\n",
        "    \n",
        "    img_dir = os.path.join(aug_dir2, \"aug_img\")\n",
        "    os.mkdir(img_dir)\n",
        "    \n",
        "    src_dir_label = os.path.join(data_dir_train, label)\n",
        "    for image_name in os.listdir(src_dir_label):\n",
        "        shutil.copy(os.path.join(src_dir_label, image_name), os.path.join(img_dir, image_name))\n",
        "    \n",
        "    batch_size = 32\n",
        "    data_flow_param = {\n",
        "  \"directory\": aug_dir2,\n",
        "\"color_mode\": \"rgb\",\n",
        "        \"batch_size\": batch_size,\n",
        "        \"shuffle\": True,\n",
        "        \"save_to_dir\": os.path.join(data_dir_train, label),\n",
        "        \"save_format\": \"jpg\"\n",
        "    }\n",
        "    aug_data_gen = data_generator.flow_from_directory(**data_flow_param)\n",
        "    num_img_aug = num_images_each_label - len(os.listdir(os.path.join(data_dir_train, label)))\n",
        "    num_batch = int(num_img_aug / batch_size)\n",
        "    \n",
        "    for i in range(0, num_batch):\n",
        "        next(aug_data_gen)\n",
        "    \n",
        "    shutil.rmtree(img_dir)\n"
      ]
    },
    {
      "cell_type": "code",
      "execution_count": null,
      "metadata": {
        "colab": {
          "base_uri": "https://localhost:8080/"
        },
        "id": "Os3u4X4wj-yd",
        "outputId": "5531ff32-158d-4a43-9fc5-b8689a69f00b"
      },
      "outputs": [
        {
          "output_type": "stream",
          "name": "stdout",
          "text": [
            "Found 50111 images belonging to 9 classes.\n",
            "Found 444 images belonging to 9 classes.\n",
            "Found 118 images belonging to 9 classes.\n"
          ]
        }
      ],
      "source": [
        "IMAGE_SHAPE = (224, 224, 3)\n",
        "data_gen_param = {\n",
        "    \"samplewise_center\": True,\n",
        "    \"samplewise_std_normalization\": True,\n",
        "    \"rotation_range\": 180,\n",
        "    \"width_shift_range\": 0.1,\n",
        "    \"height_shift_range\": 0.1,\n",
        "    \"zoom_range\": 0.1,\n",
        "    \"horizontal_flip\": True,\n",
        "    \"vertical_flip\": True,\n",
        "    \"rescale\": 1.0 / 255\n",
        "    \n",
        "\n",
        "}\n",
        "data_generator = ImageDataGenerator(**data_gen_param)\n",
        "train_flow_param = {\n",
        "    \"directory\": data_dir_train,\n",
        "    \"batch_size\": 64,\n",
        "    \"target_size\": IMAGE_SHAPE[:2],\n",
        "    \"shuffle\": True,\n",
        "    \n",
        "}\n",
        "train_flow = data_generator.flow_from_directory(**train_flow_param)\n",
        "\n",
        "\n",
        "\n",
        "val_flow_param = {\n",
        "    \"directory\": data_dir_val,\n",
        "    \"batch_size\": 1,\n",
        "    \"target_size\": IMAGE_SHAPE[:2],\n",
        "    \"shuffle\": False\n",
        "}\n",
        "val_flow = data_generator.flow_from_directory(**val_flow_param)\n",
        "\n",
        "test_flow_param = {\n",
        "    \"directory\": data_dir_test,\n",
        "    \"batch_size\": 1,\n",
        "    \"target_size\": IMAGE_SHAPE[:2],\n",
        "    \"shuffle\": False\n",
        "}\n",
        "test_flow = data_generator.flow_from_directory(**test_flow_param)\n"
      ]
    },
    {
      "cell_type": "code",
      "execution_count": null,
      "metadata": {
        "id": "RxYgpUrRCJim",
        "colab": {
          "base_uri": "https://localhost:8080/"
        },
        "outputId": "2c59886f-d5d6-4673-db53-ccb094c657cd"
      },
      "outputs": [
        {
          "output_type": "stream",
          "name": "stdout",
          "text": [
            "Downloading data from https://storage.googleapis.com/tensorflow/keras-applications/mobilenet/mobilenet_1_0_224_tf_no_top.h5\n",
            "17225924/17225924 [==============================] - 0s 0us/step\n"
          ]
        }
      ],
      "source": [
        "dropout_dense = 0.1\n",
        "mobilenet_model = MobileNet(input_shape=IMAGE_SHAPE, include_top=False, pooling=\"max\")\n",
        "\n",
        "model = Sequential()\n",
        "model.add(mobilenet_model)\n",
        "model.add(Dropout(dropout_dense))\n",
        "model.add(Dense(128, activation=\"relu\"))\n",
        "model.add(BatchNormalization())\n",
        "model.add(Dense(64, activation=\"relu\"))\n",
        "model.add(Dropout(dropout_dense))\n",
        "model.add(BatchNormalization())\n",
        "model.add(Dense(9, activation=\"softmax\"))\n",
        "\n",
        "def top_2_acc(y_true, y_pred):\n",
        "    return top_k_categorical_accuracy(y_true, y_pred, k=2)\n",
        "\n",
        "def top_3_acc(y_true, y_pred):\n",
        "    return top_k_categorical_accuracy(y_true, y_pred, k=3)\n",
        "\n",
        "model.compile(Adam(0.001), loss=\"categorical_crossentropy\", metrics=[categorical_accuracy, top_2_acc, top_3_acc])"
      ]
    },
    {
      "cell_type": "code",
      "execution_count": null,
      "metadata": {
        "id": "8WXMHHVfCaQx"
      },
      "outputs": [],
      "source": [
        "filepath = \"model.h5\"\n",
        "\n",
        "checkpoint_param = {\n",
        "    \"filepath\": filepath,\n",
        "    \"monitor\": \"val_categorical_accuracy\",\n",
        "    \"verbose\": 1,\n",
        "    \"save_best_only\": True,\n",
        "    \"mode\": \"max\"\n",
        "}\n",
        "checkpoint = ModelCheckpoint(**checkpoint_param)\n",
        "\n",
        "lr_decay_params = {\n",
        "    \"monitor\": \"val_loss\",\n",
        "    \"factor\": 0.5,\n",
        "    \"patience\": 2,\n",
        "    \"min_lr\": 1e-5\n",
        "}\n",
        "lr_decay = ReduceLROnPlateau(**lr_decay_params)\n",
        "early_stopping = EarlyStopping(monitor=\"val_loss\", patience=4, verbose=1)"
      ]
    },
    {
      "cell_type": "code",
      "source": [
        "mobilenet_model.summary()"
      ],
      "metadata": {
        "id": "bu6T-GHDOWlj",
        "colab": {
          "base_uri": "https://localhost:8080/"
        },
        "outputId": "bf3f6380-4c49-433b-f981-ecaa0fee15c8"
      },
      "execution_count": null,
      "outputs": [
        {
          "output_type": "stream",
          "name": "stdout",
          "text": [
            "Model: \"mobilenet_1.00_224\"\n",
            "_________________________________________________________________\n",
            " Layer (type)                Output Shape              Param #   \n",
            "=================================================================\n",
            " input_1 (InputLayer)        [(None, 224, 224, 3)]     0         \n",
            "                                                                 \n",
            " conv1 (Conv2D)              (None, 112, 112, 32)      864       \n",
            "                                                                 \n",
            " conv1_bn (BatchNormalizatio  (None, 112, 112, 32)     128       \n",
            " n)                                                              \n",
            "                                                                 \n",
            " conv1_relu (ReLU)           (None, 112, 112, 32)      0         \n",
            "                                                                 \n",
            " conv_dw_1 (DepthwiseConv2D)  (None, 112, 112, 32)     288       \n",
            "                                                                 \n",
            " conv_dw_1_bn (BatchNormaliz  (None, 112, 112, 32)     128       \n",
            " ation)                                                          \n",
            "                                                                 \n",
            " conv_dw_1_relu (ReLU)       (None, 112, 112, 32)      0         \n",
            "                                                                 \n",
            " conv_pw_1 (Conv2D)          (None, 112, 112, 64)      2048      \n",
            "                                                                 \n",
            " conv_pw_1_bn (BatchNormaliz  (None, 112, 112, 64)     256       \n",
            " ation)                                                          \n",
            "                                                                 \n",
            " conv_pw_1_relu (ReLU)       (None, 112, 112, 64)      0         \n",
            "                                                                 \n",
            " conv_pad_2 (ZeroPadding2D)  (None, 113, 113, 64)      0         \n",
            "                                                                 \n",
            " conv_dw_2 (DepthwiseConv2D)  (None, 56, 56, 64)       576       \n",
            "                                                                 \n",
            " conv_dw_2_bn (BatchNormaliz  (None, 56, 56, 64)       256       \n",
            " ation)                                                          \n",
            "                                                                 \n",
            " conv_dw_2_relu (ReLU)       (None, 56, 56, 64)        0         \n",
            "                                                                 \n",
            " conv_pw_2 (Conv2D)          (None, 56, 56, 128)       8192      \n",
            "                                                                 \n",
            " conv_pw_2_bn (BatchNormaliz  (None, 56, 56, 128)      512       \n",
            " ation)                                                          \n",
            "                                                                 \n",
            " conv_pw_2_relu (ReLU)       (None, 56, 56, 128)       0         \n",
            "                                                                 \n",
            " conv_dw_3 (DepthwiseConv2D)  (None, 56, 56, 128)      1152      \n",
            "                                                                 \n",
            " conv_dw_3_bn (BatchNormaliz  (None, 56, 56, 128)      512       \n",
            " ation)                                                          \n",
            "                                                                 \n",
            " conv_dw_3_relu (ReLU)       (None, 56, 56, 128)       0         \n",
            "                                                                 \n",
            " conv_pw_3 (Conv2D)          (None, 56, 56, 128)       16384     \n",
            "                                                                 \n",
            " conv_pw_3_bn (BatchNormaliz  (None, 56, 56, 128)      512       \n",
            " ation)                                                          \n",
            "                                                                 \n",
            " conv_pw_3_relu (ReLU)       (None, 56, 56, 128)       0         \n",
            "                                                                 \n",
            " conv_pad_4 (ZeroPadding2D)  (None, 57, 57, 128)       0         \n",
            "                                                                 \n",
            " conv_dw_4 (DepthwiseConv2D)  (None, 28, 28, 128)      1152      \n",
            "                                                                 \n",
            " conv_dw_4_bn (BatchNormaliz  (None, 28, 28, 128)      512       \n",
            " ation)                                                          \n",
            "                                                                 \n",
            " conv_dw_4_relu (ReLU)       (None, 28, 28, 128)       0         \n",
            "                                                                 \n",
            " conv_pw_4 (Conv2D)          (None, 28, 28, 256)       32768     \n",
            "                                                                 \n",
            " conv_pw_4_bn (BatchNormaliz  (None, 28, 28, 256)      1024      \n",
            " ation)                                                          \n",
            "                                                                 \n",
            " conv_pw_4_relu (ReLU)       (None, 28, 28, 256)       0         \n",
            "                                                                 \n",
            " conv_dw_5 (DepthwiseConv2D)  (None, 28, 28, 256)      2304      \n",
            "                                                                 \n",
            " conv_dw_5_bn (BatchNormaliz  (None, 28, 28, 256)      1024      \n",
            " ation)                                                          \n",
            "                                                                 \n",
            " conv_dw_5_relu (ReLU)       (None, 28, 28, 256)       0         \n",
            "                                                                 \n",
            " conv_pw_5 (Conv2D)          (None, 28, 28, 256)       65536     \n",
            "                                                                 \n",
            " conv_pw_5_bn (BatchNormaliz  (None, 28, 28, 256)      1024      \n",
            " ation)                                                          \n",
            "                                                                 \n",
            " conv_pw_5_relu (ReLU)       (None, 28, 28, 256)       0         \n",
            "                                                                 \n",
            " conv_pad_6 (ZeroPadding2D)  (None, 29, 29, 256)       0         \n",
            "                                                                 \n",
            " conv_dw_6 (DepthwiseConv2D)  (None, 14, 14, 256)      2304      \n",
            "                                                                 \n",
            " conv_dw_6_bn (BatchNormaliz  (None, 14, 14, 256)      1024      \n",
            " ation)                                                          \n",
            "                                                                 \n",
            " conv_dw_6_relu (ReLU)       (None, 14, 14, 256)       0         \n",
            "                                                                 \n",
            " conv_pw_6 (Conv2D)          (None, 14, 14, 512)       131072    \n",
            "                                                                 \n",
            " conv_pw_6_bn (BatchNormaliz  (None, 14, 14, 512)      2048      \n",
            " ation)                                                          \n",
            "                                                                 \n",
            " conv_pw_6_relu (ReLU)       (None, 14, 14, 512)       0         \n",
            "                                                                 \n",
            " conv_dw_7 (DepthwiseConv2D)  (None, 14, 14, 512)      4608      \n",
            "                                                                 \n",
            " conv_dw_7_bn (BatchNormaliz  (None, 14, 14, 512)      2048      \n",
            " ation)                                                          \n",
            "                                                                 \n",
            " conv_dw_7_relu (ReLU)       (None, 14, 14, 512)       0         \n",
            "                                                                 \n",
            " conv_pw_7 (Conv2D)          (None, 14, 14, 512)       262144    \n",
            "                                                                 \n",
            " conv_pw_7_bn (BatchNormaliz  (None, 14, 14, 512)      2048      \n",
            " ation)                                                          \n",
            "                                                                 \n",
            " conv_pw_7_relu (ReLU)       (None, 14, 14, 512)       0         \n",
            "                                                                 \n",
            " conv_dw_8 (DepthwiseConv2D)  (None, 14, 14, 512)      4608      \n",
            "                                                                 \n",
            " conv_dw_8_bn (BatchNormaliz  (None, 14, 14, 512)      2048      \n",
            " ation)                                                          \n",
            "                                                                 \n",
            " conv_dw_8_relu (ReLU)       (None, 14, 14, 512)       0         \n",
            "                                                                 \n",
            " conv_pw_8 (Conv2D)          (None, 14, 14, 512)       262144    \n",
            "                                                                 \n",
            " conv_pw_8_bn (BatchNormaliz  (None, 14, 14, 512)      2048      \n",
            " ation)                                                          \n",
            "                                                                 \n",
            " conv_pw_8_relu (ReLU)       (None, 14, 14, 512)       0         \n",
            "                                                                 \n",
            " conv_dw_9 (DepthwiseConv2D)  (None, 14, 14, 512)      4608      \n",
            "                                                                 \n",
            " conv_dw_9_bn (BatchNormaliz  (None, 14, 14, 512)      2048      \n",
            " ation)                                                          \n",
            "                                                                 \n",
            " conv_dw_9_relu (ReLU)       (None, 14, 14, 512)       0         \n",
            "                                                                 \n",
            " conv_pw_9 (Conv2D)          (None, 14, 14, 512)       262144    \n",
            "                                                                 \n",
            " conv_pw_9_bn (BatchNormaliz  (None, 14, 14, 512)      2048      \n",
            " ation)                                                          \n",
            "                                                                 \n",
            " conv_pw_9_relu (ReLU)       (None, 14, 14, 512)       0         \n",
            "                                                                 \n",
            " conv_dw_10 (DepthwiseConv2D  (None, 14, 14, 512)      4608      \n",
            " )                                                               \n",
            "                                                                 \n",
            " conv_dw_10_bn (BatchNormali  (None, 14, 14, 512)      2048      \n",
            " zation)                                                         \n",
            "                                                                 \n",
            " conv_dw_10_relu (ReLU)      (None, 14, 14, 512)       0         \n",
            "                                                                 \n",
            " conv_pw_10 (Conv2D)         (None, 14, 14, 512)       262144    \n",
            "                                                                 \n",
            " conv_pw_10_bn (BatchNormali  (None, 14, 14, 512)      2048      \n",
            " zation)                                                         \n",
            "                                                                 \n",
            " conv_pw_10_relu (ReLU)      (None, 14, 14, 512)       0         \n",
            "                                                                 \n",
            " conv_dw_11 (DepthwiseConv2D  (None, 14, 14, 512)      4608      \n",
            " )                                                               \n",
            "                                                                 \n",
            " conv_dw_11_bn (BatchNormali  (None, 14, 14, 512)      2048      \n",
            " zation)                                                         \n",
            "                                                                 \n",
            " conv_dw_11_relu (ReLU)      (None, 14, 14, 512)       0         \n",
            "                                                                 \n",
            " conv_pw_11 (Conv2D)         (None, 14, 14, 512)       262144    \n",
            "                                                                 \n",
            " conv_pw_11_bn (BatchNormali  (None, 14, 14, 512)      2048      \n",
            " zation)                                                         \n",
            "                                                                 \n",
            " conv_pw_11_relu (ReLU)      (None, 14, 14, 512)       0         \n",
            "                                                                 \n",
            " conv_pad_12 (ZeroPadding2D)  (None, 15, 15, 512)      0         \n",
            "                                                                 \n",
            " conv_dw_12 (DepthwiseConv2D  (None, 7, 7, 512)        4608      \n",
            " )                                                               \n",
            "                                                                 \n",
            " conv_dw_12_bn (BatchNormali  (None, 7, 7, 512)        2048      \n",
            " zation)                                                         \n",
            "                                                                 \n",
            " conv_dw_12_relu (ReLU)      (None, 7, 7, 512)         0         \n",
            "                                                                 \n",
            " conv_pw_12 (Conv2D)         (None, 7, 7, 1024)        524288    \n",
            "                                                                 \n",
            " conv_pw_12_bn (BatchNormali  (None, 7, 7, 1024)       4096      \n",
            " zation)                                                         \n",
            "                                                                 \n",
            " conv_pw_12_relu (ReLU)      (None, 7, 7, 1024)        0         \n",
            "                                                                 \n",
            " conv_dw_13 (DepthwiseConv2D  (None, 7, 7, 1024)       9216      \n",
            " )                                                               \n",
            "                                                                 \n",
            " conv_dw_13_bn (BatchNormali  (None, 7, 7, 1024)       4096      \n",
            " zation)                                                         \n",
            "                                                                 \n",
            " conv_dw_13_relu (ReLU)      (None, 7, 7, 1024)        0         \n",
            "                                                                 \n",
            " conv_pw_13 (Conv2D)         (None, 7, 7, 1024)        1048576   \n",
            "                                                                 \n",
            " conv_pw_13_bn (BatchNormali  (None, 7, 7, 1024)       4096      \n",
            " zation)                                                         \n",
            "                                                                 \n",
            " conv_pw_13_relu (ReLU)      (None, 7, 7, 1024)        0         \n",
            "                                                                 \n",
            " global_max_pooling2d (Globa  (None, 1024)             0         \n",
            " lMaxPooling2D)                                                  \n",
            "                                                                 \n",
            "=================================================================\n",
            "Total params: 3,228,864\n",
            "Trainable params: 3,206,976\n",
            "Non-trainable params: 21,888\n",
            "_________________________________________________________________\n"
          ]
        }
      ]
    },
    {
      "cell_type": "code",
      "source": [
        "model.summary()"
      ],
      "metadata": {
        "id": "m5fCKKGRnNb7",
        "colab": {
          "base_uri": "https://localhost:8080/"
        },
        "outputId": "0ab0a3fc-56c2-4cbc-8448-ff9ad62f204f"
      },
      "execution_count": null,
      "outputs": [
        {
          "output_type": "stream",
          "name": "stdout",
          "text": [
            "Model: \"sequential\"\n",
            "_________________________________________________________________\n",
            " Layer (type)                Output Shape              Param #   \n",
            "=================================================================\n",
            " mobilenet_1.00_224 (Functio  (None, 1024)             3228864   \n",
            " nal)                                                            \n",
            "                                                                 \n",
            " dropout (Dropout)           (None, 1024)              0         \n",
            "                                                                 \n",
            " dense (Dense)               (None, 128)               131200    \n",
            "                                                                 \n",
            " batch_normalization (BatchN  (None, 128)              512       \n",
            " ormalization)                                                   \n",
            "                                                                 \n",
            " dense_1 (Dense)             (None, 64)                8256      \n",
            "                                                                 \n",
            " dropout_1 (Dropout)         (None, 64)                0         \n",
            "                                                                 \n",
            " batch_normalization_1 (Batc  (None, 64)               256       \n",
            " hNormalization)                                                 \n",
            "                                                                 \n",
            " dense_2 (Dense)             (None, 9)                 585       \n",
            "                                                                 \n",
            "=================================================================\n",
            "Total params: 3,369,673\n",
            "Trainable params: 3,347,401\n",
            "Non-trainable params: 22,272\n",
            "_________________________________________________________________\n"
          ]
        }
      ]
    },
    {
      "cell_type": "code",
      "execution_count": null,
      "metadata": {
        "colab": {
          "base_uri": "https://localhost:8080/"
        },
        "id": "MhCVyPihCeWN",
        "outputId": "4fdc42c4-87ba-40f8-dac6-24ec27dcc7b3"
      },
      "outputs": [
        {
          "output_type": "stream",
          "name": "stdout",
          "text": [
            "Training the model...\n",
            "Epoch 1/50\n",
            "32/32 [==============================] - ETA: 0s - loss: 2.1496 - categorical_accuracy: 0.2769 - top_2_acc: 0.4409 - top_3_acc: 0.5771\n",
            "Epoch 1: val_categorical_accuracy improved from -inf to 0.00000, saving model to model.h5\n",
            "32/32 [==============================] - 46s 955ms/step - loss: 2.1496 - categorical_accuracy: 0.2769 - top_2_acc: 0.4409 - top_3_acc: 0.5771 - val_loss: 10.0207 - val_categorical_accuracy: 0.0000e+00 - val_top_2_acc: 0.0000e+00 - val_top_3_acc: 0.0000e+00 - lr: 0.0010\n",
            "Epoch 2/50\n",
            "32/32 [==============================] - ETA: 0s - loss: 1.4835 - categorical_accuracy: 0.4487 - top_2_acc: 0.6802 - top_3_acc: 0.8008\n",
            "Epoch 2: val_categorical_accuracy did not improve from 0.00000\n",
            "32/32 [==============================] - 33s 1s/step - loss: 1.4835 - categorical_accuracy: 0.4487 - top_2_acc: 0.6802 - top_3_acc: 0.8008 - val_loss: 6.3447 - val_categorical_accuracy: 0.0000e+00 - val_top_2_acc: 0.0000e+00 - val_top_3_acc: 0.0000e+00 - lr: 0.0010\n",
            "Epoch 3/50\n",
            "32/32 [==============================] - ETA: 0s - loss: 1.2551 - categorical_accuracy: 0.5410 - top_2_acc: 0.7700 - top_3_acc: 0.8608\n",
            "Epoch 3: val_categorical_accuracy improved from 0.00000 to 0.03125, saving model to model.h5\n",
            "32/32 [==============================] - 31s 954ms/step - loss: 1.2551 - categorical_accuracy: 0.5410 - top_2_acc: 0.7700 - top_3_acc: 0.8608 - val_loss: 3.9809 - val_categorical_accuracy: 0.0312 - val_top_2_acc: 0.0312 - val_top_3_acc: 0.0938 - lr: 0.0010\n",
            "Epoch 4/50\n",
            "32/32 [==============================] - ETA: 0s - loss: 1.1005 - categorical_accuracy: 0.5850 - top_2_acc: 0.7993 - top_3_acc: 0.8936\n",
            "Epoch 4: val_categorical_accuracy improved from 0.03125 to 0.15625, saving model to model.h5\n",
            "32/32 [==============================] - 32s 985ms/step - loss: 1.1005 - categorical_accuracy: 0.5850 - top_2_acc: 0.7993 - top_3_acc: 0.8936 - val_loss: 3.2122 - val_categorical_accuracy: 0.1562 - val_top_2_acc: 0.2500 - val_top_3_acc: 0.3438 - lr: 0.0010\n",
            "Epoch 5/50\n",
            "32/32 [==============================] - ETA: 0s - loss: 0.9885 - categorical_accuracy: 0.6201 - top_2_acc: 0.8462 - top_3_acc: 0.9170\n",
            "Epoch 5: val_categorical_accuracy improved from 0.15625 to 0.43750, saving model to model.h5\n",
            "32/32 [==============================] - 32s 980ms/step - loss: 0.9885 - categorical_accuracy: 0.6201 - top_2_acc: 0.8462 - top_3_acc: 0.9170 - val_loss: 1.7815 - val_categorical_accuracy: 0.4375 - val_top_2_acc: 0.5625 - val_top_3_acc: 0.5938 - lr: 0.0010\n",
            "Epoch 6/50\n",
            "32/32 [==============================] - ETA: 0s - loss: 0.9258 - categorical_accuracy: 0.6440 - top_2_acc: 0.8633 - top_3_acc: 0.9341\n",
            "Epoch 6: val_categorical_accuracy improved from 0.43750 to 0.75000, saving model to model.h5\n",
            "32/32 [==============================] - 30s 945ms/step - loss: 0.9258 - categorical_accuracy: 0.6440 - top_2_acc: 0.8633 - top_3_acc: 0.9341 - val_loss: 0.9487 - val_categorical_accuracy: 0.7500 - val_top_2_acc: 0.8125 - val_top_3_acc: 0.9062 - lr: 0.0010\n",
            "Epoch 7/50\n",
            "32/32 [==============================] - ETA: 0s - loss: 0.9170 - categorical_accuracy: 0.6553 - top_2_acc: 0.8638 - top_3_acc: 0.9302\n",
            "Epoch 7: val_categorical_accuracy did not improve from 0.75000\n",
            "32/32 [==============================] - 31s 951ms/step - loss: 0.9170 - categorical_accuracy: 0.6553 - top_2_acc: 0.8638 - top_3_acc: 0.9302 - val_loss: 0.8260 - val_categorical_accuracy: 0.7188 - val_top_2_acc: 0.9062 - val_top_3_acc: 0.9688 - lr: 0.0010\n",
            "Epoch 8/50\n",
            "32/32 [==============================] - ETA: 0s - loss: 0.8762 - categorical_accuracy: 0.6709 - top_2_acc: 0.8882 - top_3_acc: 0.9473\n",
            "Epoch 8: val_categorical_accuracy improved from 0.75000 to 0.90625, saving model to model.h5\n",
            "32/32 [==============================] - 30s 946ms/step - loss: 0.8762 - categorical_accuracy: 0.6709 - top_2_acc: 0.8882 - top_3_acc: 0.9473 - val_loss: 0.4621 - val_categorical_accuracy: 0.9062 - val_top_2_acc: 1.0000 - val_top_3_acc: 1.0000 - lr: 0.0010\n",
            "Epoch 9/50\n",
            "32/32 [==============================] - ETA: 0s - loss: 0.7978 - categorical_accuracy: 0.6846 - top_2_acc: 0.8979 - top_3_acc: 0.9512\n",
            "Epoch 9: val_categorical_accuracy did not improve from 0.90625\n",
            "32/32 [==============================] - 31s 964ms/step - loss: 0.7978 - categorical_accuracy: 0.6846 - top_2_acc: 0.8979 - top_3_acc: 0.9512 - val_loss: 0.7934 - val_categorical_accuracy: 0.7812 - val_top_2_acc: 0.9062 - val_top_3_acc: 1.0000 - lr: 0.0010\n",
            "Epoch 10/50\n",
            "32/32 [==============================] - ETA: 0s - loss: 0.7970 - categorical_accuracy: 0.6973 - top_2_acc: 0.8862 - top_3_acc: 0.9531\n",
            "Epoch 10: val_categorical_accuracy did not improve from 0.90625\n",
            "32/32 [==============================] - 31s 955ms/step - loss: 0.7970 - categorical_accuracy: 0.6973 - top_2_acc: 0.8862 - top_3_acc: 0.9531 - val_loss: 0.6303 - val_categorical_accuracy: 0.8438 - val_top_2_acc: 0.9062 - val_top_3_acc: 0.9375 - lr: 0.0010\n",
            "Epoch 11/50\n",
            "32/32 [==============================] - ETA: 0s - loss: 0.7137 - categorical_accuracy: 0.7329 - top_2_acc: 0.9136 - top_3_acc: 0.9653\n",
            "Epoch 11: val_categorical_accuracy did not improve from 0.90625\n",
            "32/32 [==============================] - 30s 937ms/step - loss: 0.7137 - categorical_accuracy: 0.7329 - top_2_acc: 0.9136 - top_3_acc: 0.9653 - val_loss: 0.8756 - val_categorical_accuracy: 0.6562 - val_top_2_acc: 0.8750 - val_top_3_acc: 1.0000 - lr: 5.0000e-04\n",
            "Epoch 12/50\n",
            "32/32 [==============================] - ETA: 0s - loss: 0.6773 - categorical_accuracy: 0.7310 - top_2_acc: 0.9229 - top_3_acc: 0.9648\n",
            "Epoch 12: val_categorical_accuracy did not improve from 0.90625\n",
            "32/32 [==============================] - 31s 976ms/step - loss: 0.6773 - categorical_accuracy: 0.7310 - top_2_acc: 0.9229 - top_3_acc: 0.9648 - val_loss: 1.1354 - val_categorical_accuracy: 0.5625 - val_top_2_acc: 0.9062 - val_top_3_acc: 0.9688 - lr: 5.0000e-04\n",
            "Epoch 13/50\n",
            "32/32 [==============================] - ETA: 0s - loss: 0.6388 - categorical_accuracy: 0.7495 - top_2_acc: 0.9326 - top_3_acc: 0.9712\n",
            "Epoch 13: val_categorical_accuracy did not improve from 0.90625\n",
            "32/32 [==============================] - 30s 941ms/step - loss: 0.6388 - categorical_accuracy: 0.7495 - top_2_acc: 0.9326 - top_3_acc: 0.9712 - val_loss: 0.9384 - val_categorical_accuracy: 0.5625 - val_top_2_acc: 0.8750 - val_top_3_acc: 1.0000 - lr: 2.5000e-04\n",
            "Epoch 14/50\n",
            "32/32 [==============================] - ETA: 0s - loss: 0.5830 - categorical_accuracy: 0.7827 - top_2_acc: 0.9360 - top_3_acc: 0.9810\n",
            "Epoch 14: val_categorical_accuracy did not improve from 0.90625\n",
            "32/32 [==============================] - 31s 978ms/step - loss: 0.5830 - categorical_accuracy: 0.7827 - top_2_acc: 0.9360 - top_3_acc: 0.9810 - val_loss: 0.6521 - val_categorical_accuracy: 0.8125 - val_top_2_acc: 0.9688 - val_top_3_acc: 0.9688 - lr: 2.5000e-04\n",
            "Epoch 15/50\n",
            "32/32 [==============================] - ETA: 0s - loss: 0.5845 - categorical_accuracy: 0.7852 - top_2_acc: 0.9424 - top_3_acc: 0.9746\n",
            "Epoch 15: val_categorical_accuracy did not improve from 0.90625\n",
            "32/32 [==============================] - 31s 979ms/step - loss: 0.5845 - categorical_accuracy: 0.7852 - top_2_acc: 0.9424 - top_3_acc: 0.9746 - val_loss: 0.8834 - val_categorical_accuracy: 0.6250 - val_top_2_acc: 0.9062 - val_top_3_acc: 0.9688 - lr: 1.2500e-04\n",
            "Epoch 16/50\n",
            "32/32 [==============================] - ETA: 0s - loss: 0.5511 - categorical_accuracy: 0.7959 - top_2_acc: 0.9434 - top_3_acc: 0.9834\n",
            "Epoch 16: val_categorical_accuracy did not improve from 0.90625\n",
            "32/32 [==============================] - 31s 958ms/step - loss: 0.5511 - categorical_accuracy: 0.7959 - top_2_acc: 0.9434 - top_3_acc: 0.9834 - val_loss: 0.4869 - val_categorical_accuracy: 0.8750 - val_top_2_acc: 0.9688 - val_top_3_acc: 0.9688 - lr: 1.2500e-04\n",
            "Epoch 17/50\n",
            "32/32 [==============================] - ETA: 0s - loss: 0.5522 - categorical_accuracy: 0.7983 - top_2_acc: 0.9414 - top_3_acc: 0.9785\n",
            "Epoch 17: val_categorical_accuracy did not improve from 0.90625\n",
            "32/32 [==============================] - 31s 983ms/step - loss: 0.5522 - categorical_accuracy: 0.7983 - top_2_acc: 0.9414 - top_3_acc: 0.9785 - val_loss: 0.7749 - val_categorical_accuracy: 0.6875 - val_top_2_acc: 0.9062 - val_top_3_acc: 0.9688 - lr: 6.2500e-05\n",
            "Epoch 18/50\n",
            "32/32 [==============================] - ETA: 0s - loss: 0.5447 - categorical_accuracy: 0.7899 - top_2_acc: 0.9502 - top_3_acc: 0.9795\n",
            "Epoch 18: val_categorical_accuracy did not improve from 0.90625\n",
            "32/32 [==============================] - 32s 1s/step - loss: 0.5447 - categorical_accuracy: 0.7899 - top_2_acc: 0.9502 - top_3_acc: 0.9795 - val_loss: 0.8426 - val_categorical_accuracy: 0.6875 - val_top_2_acc: 0.9375 - val_top_3_acc: 1.0000 - lr: 6.2500e-05\n",
            "Epoch 19/50\n",
            "32/32 [==============================] - ETA: 0s - loss: 0.5141 - categorical_accuracy: 0.8008 - top_2_acc: 0.9604 - top_3_acc: 0.9883\n",
            "Epoch 19: val_categorical_accuracy did not improve from 0.90625\n",
            "32/32 [==============================] - 32s 988ms/step - loss: 0.5141 - categorical_accuracy: 0.8008 - top_2_acc: 0.9604 - top_3_acc: 0.9883 - val_loss: 0.7769 - val_categorical_accuracy: 0.7188 - val_top_2_acc: 0.8438 - val_top_3_acc: 0.9375 - lr: 3.1250e-05\n",
            "Epoch 20/50\n",
            "32/32 [==============================] - ETA: 0s - loss: 0.5605 - categorical_accuracy: 0.7754 - top_2_acc: 0.9487 - top_3_acc: 0.9814\n",
            "Epoch 20: val_categorical_accuracy did not improve from 0.90625\n",
            "32/32 [==============================] - 31s 960ms/step - loss: 0.5605 - categorical_accuracy: 0.7754 - top_2_acc: 0.9487 - top_3_acc: 0.9814 - val_loss: 0.7392 - val_categorical_accuracy: 0.7188 - val_top_2_acc: 0.9375 - val_top_3_acc: 1.0000 - lr: 3.1250e-05\n",
            "Epoch 21/50\n",
            "32/32 [==============================] - ETA: 0s - loss: 0.5239 - categorical_accuracy: 0.7915 - top_2_acc: 0.9551 - top_3_acc: 0.9834\n",
            "Epoch 21: val_categorical_accuracy did not improve from 0.90625\n",
            "32/32 [==============================] - 32s 989ms/step - loss: 0.5239 - categorical_accuracy: 0.7915 - top_2_acc: 0.9551 - top_3_acc: 0.9834 - val_loss: 0.8186 - val_categorical_accuracy: 0.7188 - val_top_2_acc: 0.9062 - val_top_3_acc: 1.0000 - lr: 1.5625e-05\n",
            "Epoch 22/50\n",
            "32/32 [==============================] - ETA: 0s - loss: 0.5398 - categorical_accuracy: 0.7979 - top_2_acc: 0.9468 - top_3_acc: 0.9810\n",
            "Epoch 22: val_categorical_accuracy did not improve from 0.90625\n",
            "32/32 [==============================] - 31s 952ms/step - loss: 0.5398 - categorical_accuracy: 0.7979 - top_2_acc: 0.9468 - top_3_acc: 0.9810 - val_loss: 0.6692 - val_categorical_accuracy: 0.7188 - val_top_2_acc: 0.9062 - val_top_3_acc: 1.0000 - lr: 1.5625e-05\n",
            "Epoch 23/50\n",
            "32/32 [==============================] - ETA: 0s - loss: 0.5193 - categorical_accuracy: 0.8047 - top_2_acc: 0.9517 - top_3_acc: 0.9834\n",
            "Epoch 23: val_categorical_accuracy did not improve from 0.90625\n",
            "32/32 [==============================] - 31s 953ms/step - loss: 0.5193 - categorical_accuracy: 0.8047 - top_2_acc: 0.9517 - top_3_acc: 0.9834 - val_loss: 0.7076 - val_categorical_accuracy: 0.7500 - val_top_2_acc: 0.9375 - val_top_3_acc: 0.9688 - lr: 1.0000e-05\n",
            "Epoch 24/50\n",
            "32/32 [==============================] - ETA: 0s - loss: 0.5123 - categorical_accuracy: 0.8022 - top_2_acc: 0.9604 - top_3_acc: 0.9844\n",
            "Epoch 24: val_categorical_accuracy did not improve from 0.90625\n",
            "32/32 [==============================] - 31s 953ms/step - loss: 0.5123 - categorical_accuracy: 0.8022 - top_2_acc: 0.9604 - top_3_acc: 0.9844 - val_loss: 0.6044 - val_categorical_accuracy: 0.7812 - val_top_2_acc: 0.9375 - val_top_3_acc: 0.9688 - lr: 1.0000e-05\n",
            "Epoch 25/50\n",
            "32/32 [==============================] - ETA: 0s - loss: 0.5177 - categorical_accuracy: 0.8037 - top_2_acc: 0.9521 - top_3_acc: 0.9790\n",
            "Epoch 25: val_categorical_accuracy did not improve from 0.90625\n",
            "32/32 [==============================] - 30s 939ms/step - loss: 0.5177 - categorical_accuracy: 0.8037 - top_2_acc: 0.9521 - top_3_acc: 0.9790 - val_loss: 0.5554 - val_categorical_accuracy: 0.8438 - val_top_2_acc: 0.9375 - val_top_3_acc: 0.9688 - lr: 1.0000e-05\n",
            "Epoch 26/50\n",
            "32/32 [==============================] - ETA: 0s - loss: 0.4881 - categorical_accuracy: 0.8208 - top_2_acc: 0.9609 - top_3_acc: 0.9868\n",
            "Epoch 26: val_categorical_accuracy did not improve from 0.90625\n",
            "32/32 [==============================] - 32s 994ms/step - loss: 0.4881 - categorical_accuracy: 0.8208 - top_2_acc: 0.9609 - top_3_acc: 0.9868 - val_loss: 0.7019 - val_categorical_accuracy: 0.7188 - val_top_2_acc: 0.9375 - val_top_3_acc: 1.0000 - lr: 1.0000e-05\n",
            "Epoch 27/50\n",
            "32/32 [==============================] - ETA: 0s - loss: 0.5598 - categorical_accuracy: 0.7886 - top_2_acc: 0.9468 - top_3_acc: 0.9819\n",
            "Epoch 27: val_categorical_accuracy did not improve from 0.90625\n",
            "32/32 [==============================] - 31s 955ms/step - loss: 0.5598 - categorical_accuracy: 0.7886 - top_2_acc: 0.9468 - top_3_acc: 0.9819 - val_loss: 0.6159 - val_categorical_accuracy: 0.7812 - val_top_2_acc: 0.9062 - val_top_3_acc: 1.0000 - lr: 1.0000e-05\n",
            "Epoch 28/50\n",
            "32/32 [==============================] - ETA: 0s - loss: 0.5351 - categorical_accuracy: 0.7905 - top_2_acc: 0.9424 - top_3_acc: 0.9775\n",
            "Epoch 28: val_categorical_accuracy did not improve from 0.90625\n",
            "32/32 [==============================] - 30s 941ms/step - loss: 0.5351 - categorical_accuracy: 0.7905 - top_2_acc: 0.9424 - top_3_acc: 0.9775 - val_loss: 0.5937 - val_categorical_accuracy: 0.7812 - val_top_2_acc: 0.9375 - val_top_3_acc: 1.0000 - lr: 1.0000e-05\n",
            "Epoch 29/50\n",
            "32/32 [==============================] - ETA: 0s - loss: 0.5134 - categorical_accuracy: 0.8076 - top_2_acc: 0.9487 - top_3_acc: 0.9819\n",
            "Epoch 29: val_categorical_accuracy did not improve from 0.90625\n",
            "32/32 [==============================] - 31s 982ms/step - loss: 0.5134 - categorical_accuracy: 0.8076 - top_2_acc: 0.9487 - top_3_acc: 0.9819 - val_loss: 0.5246 - val_categorical_accuracy: 0.7500 - val_top_2_acc: 0.9688 - val_top_3_acc: 1.0000 - lr: 1.0000e-05\n",
            "Epoch 30/50\n",
            "32/32 [==============================] - ETA: 0s - loss: 0.4891 - categorical_accuracy: 0.8184 - top_2_acc: 0.9595 - top_3_acc: 0.9829\n",
            "Epoch 30: val_categorical_accuracy did not improve from 0.90625\n",
            "32/32 [==============================] - 31s 961ms/step - loss: 0.4891 - categorical_accuracy: 0.8184 - top_2_acc: 0.9595 - top_3_acc: 0.9829 - val_loss: 0.5891 - val_categorical_accuracy: 0.7500 - val_top_2_acc: 0.9375 - val_top_3_acc: 1.0000 - lr: 1.0000e-05\n",
            "Epoch 31/50\n",
            "32/32 [==============================] - ETA: 0s - loss: 0.5065 - categorical_accuracy: 0.8096 - top_2_acc: 0.9565 - top_3_acc: 0.9858\n",
            "Epoch 31: val_categorical_accuracy did not improve from 0.90625\n",
            "32/32 [==============================] - 32s 1s/step - loss: 0.5065 - categorical_accuracy: 0.8096 - top_2_acc: 0.9565 - top_3_acc: 0.9858 - val_loss: 0.5989 - val_categorical_accuracy: 0.7812 - val_top_2_acc: 0.9375 - val_top_3_acc: 1.0000 - lr: 1.0000e-05\n",
            "Epoch 32/50\n",
            "32/32 [==============================] - ETA: 0s - loss: 0.5217 - categorical_accuracy: 0.7959 - top_2_acc: 0.9561 - top_3_acc: 0.9854\n",
            "Epoch 32: val_categorical_accuracy did not improve from 0.90625\n",
            "32/32 [==============================] - 31s 961ms/step - loss: 0.5217 - categorical_accuracy: 0.7959 - top_2_acc: 0.9561 - top_3_acc: 0.9854 - val_loss: 0.6034 - val_categorical_accuracy: 0.8438 - val_top_2_acc: 0.9375 - val_top_3_acc: 0.9688 - lr: 1.0000e-05\n",
            "Epoch 33/50\n",
            "32/32 [==============================] - ETA: 0s - loss: 0.5178 - categorical_accuracy: 0.7949 - top_2_acc: 0.9463 - top_3_acc: 0.9844\n",
            "Epoch 33: val_categorical_accuracy did not improve from 0.90625\n",
            "32/32 [==============================] - 30s 948ms/step - loss: 0.5178 - categorical_accuracy: 0.7949 - top_2_acc: 0.9463 - top_3_acc: 0.9844 - val_loss: 0.5753 - val_categorical_accuracy: 0.8125 - val_top_2_acc: 0.9688 - val_top_3_acc: 1.0000 - lr: 1.0000e-05\n",
            "Epoch 34/50\n",
            "32/32 [==============================] - ETA: 0s - loss: 0.4989 - categorical_accuracy: 0.8218 - top_2_acc: 0.9556 - top_3_acc: 0.9849\n",
            "Epoch 34: val_categorical_accuracy did not improve from 0.90625\n",
            "32/32 [==============================] - 32s 1s/step - loss: 0.4989 - categorical_accuracy: 0.8218 - top_2_acc: 0.9556 - top_3_acc: 0.9849 - val_loss: 0.6605 - val_categorical_accuracy: 0.8125 - val_top_2_acc: 0.9062 - val_top_3_acc: 0.9375 - lr: 1.0000e-05\n",
            "Epoch 35/50\n",
            "32/32 [==============================] - ETA: 0s - loss: 0.5536 - categorical_accuracy: 0.7861 - top_2_acc: 0.9512 - top_3_acc: 0.9844\n",
            "Epoch 35: val_categorical_accuracy did not improve from 0.90625\n",
            "32/32 [==============================] - 31s 968ms/step - loss: 0.5536 - categorical_accuracy: 0.7861 - top_2_acc: 0.9512 - top_3_acc: 0.9844 - val_loss: 0.5120 - val_categorical_accuracy: 0.8125 - val_top_2_acc: 0.9375 - val_top_3_acc: 1.0000 - lr: 1.0000e-05\n",
            "Epoch 36/50\n",
            "32/32 [==============================] - ETA: 0s - loss: 0.5387 - categorical_accuracy: 0.8091 - top_2_acc: 0.9575 - top_3_acc: 0.9790\n",
            "Epoch 36: val_categorical_accuracy did not improve from 0.90625\n",
            "32/32 [==============================] - 31s 970ms/step - loss: 0.5387 - categorical_accuracy: 0.8091 - top_2_acc: 0.9575 - top_3_acc: 0.9790 - val_loss: 0.5876 - val_categorical_accuracy: 0.9062 - val_top_2_acc: 0.9375 - val_top_3_acc: 0.9688 - lr: 1.0000e-05\n",
            "Epoch 37/50\n",
            "32/32 [==============================] - ETA: 0s - loss: 0.5436 - categorical_accuracy: 0.7910 - top_2_acc: 0.9453 - top_3_acc: 0.9805\n",
            "Epoch 37: val_categorical_accuracy did not improve from 0.90625\n",
            "32/32 [==============================] - 31s 965ms/step - loss: 0.5436 - categorical_accuracy: 0.7910 - top_2_acc: 0.9453 - top_3_acc: 0.9805 - val_loss: 0.5197 - val_categorical_accuracy: 0.8125 - val_top_2_acc: 0.9688 - val_top_3_acc: 1.0000 - lr: 1.0000e-05\n",
            "Epoch 38/50\n",
            "32/32 [==============================] - ETA: 0s - loss: 0.5031 - categorical_accuracy: 0.7983 - top_2_acc: 0.9551 - top_3_acc: 0.9873\n",
            "Epoch 38: val_categorical_accuracy did not improve from 0.90625\n",
            "32/32 [==============================] - 30s 942ms/step - loss: 0.5031 - categorical_accuracy: 0.7983 - top_2_acc: 0.9551 - top_3_acc: 0.9873 - val_loss: 0.5408 - val_categorical_accuracy: 0.8125 - val_top_2_acc: 1.0000 - val_top_3_acc: 1.0000 - lr: 1.0000e-05\n",
            "Epoch 39/50\n",
            "32/32 [==============================] - ETA: 0s - loss: 0.5422 - categorical_accuracy: 0.7915 - top_2_acc: 0.9541 - top_3_acc: 0.9805\n",
            "Epoch 39: val_categorical_accuracy did not improve from 0.90625\n",
            "32/32 [==============================] - 31s 966ms/step - loss: 0.5422 - categorical_accuracy: 0.7915 - top_2_acc: 0.9541 - top_3_acc: 0.9805 - val_loss: 0.6558 - val_categorical_accuracy: 0.8125 - val_top_2_acc: 1.0000 - val_top_3_acc: 1.0000 - lr: 1.0000e-05\n",
            "Epoch 40/50\n",
            "32/32 [==============================] - ETA: 0s - loss: 0.5116 - categorical_accuracy: 0.8081 - top_2_acc: 0.9551 - top_3_acc: 0.9849\n",
            "Epoch 40: val_categorical_accuracy did not improve from 0.90625\n",
            "32/32 [==============================] - 30s 948ms/step - loss: 0.5116 - categorical_accuracy: 0.8081 - top_2_acc: 0.9551 - top_3_acc: 0.9849 - val_loss: 0.5934 - val_categorical_accuracy: 0.8438 - val_top_2_acc: 0.9375 - val_top_3_acc: 1.0000 - lr: 1.0000e-05\n",
            "Epoch 41/50\n",
            "32/32 [==============================] - ETA: 0s - loss: 0.5250 - categorical_accuracy: 0.7993 - top_2_acc: 0.9531 - top_3_acc: 0.9844\n",
            "Epoch 41: val_categorical_accuracy did not improve from 0.90625\n",
            "32/32 [==============================] - 32s 986ms/step - loss: 0.5250 - categorical_accuracy: 0.7993 - top_2_acc: 0.9531 - top_3_acc: 0.9844 - val_loss: 0.7147 - val_categorical_accuracy: 0.7500 - val_top_2_acc: 0.9375 - val_top_3_acc: 1.0000 - lr: 1.0000e-05\n",
            "Epoch 42/50\n",
            "32/32 [==============================] - ETA: 0s - loss: 0.5314 - categorical_accuracy: 0.8013 - top_2_acc: 0.9482 - top_3_acc: 0.9805\n",
            "Epoch 42: val_categorical_accuracy did not improve from 0.90625\n",
            "32/32 [==============================] - 31s 966ms/step - loss: 0.5314 - categorical_accuracy: 0.8013 - top_2_acc: 0.9482 - top_3_acc: 0.9805 - val_loss: 0.7155 - val_categorical_accuracy: 0.7812 - val_top_2_acc: 0.9062 - val_top_3_acc: 0.9688 - lr: 1.0000e-05\n",
            "Epoch 43/50\n",
            "32/32 [==============================] - ETA: 0s - loss: 0.5026 - categorical_accuracy: 0.8105 - top_2_acc: 0.9536 - top_3_acc: 0.9854\n",
            "Epoch 43: val_categorical_accuracy did not improve from 0.90625\n",
            "32/32 [==============================] - 30s 928ms/step - loss: 0.5026 - categorical_accuracy: 0.8105 - top_2_acc: 0.9536 - top_3_acc: 0.9854 - val_loss: 0.6461 - val_categorical_accuracy: 0.8125 - val_top_2_acc: 0.9062 - val_top_3_acc: 1.0000 - lr: 1.0000e-05\n",
            "Epoch 44/50\n",
            "32/32 [==============================] - ETA: 0s - loss: 0.5091 - categorical_accuracy: 0.8091 - top_2_acc: 0.9551 - top_3_acc: 0.9829\n",
            "Epoch 44: val_categorical_accuracy did not improve from 0.90625\n",
            "32/32 [==============================] - 30s 950ms/step - loss: 0.5091 - categorical_accuracy: 0.8091 - top_2_acc: 0.9551 - top_3_acc: 0.9829 - val_loss: 0.6279 - val_categorical_accuracy: 0.8125 - val_top_2_acc: 0.9375 - val_top_3_acc: 0.9688 - lr: 1.0000e-05\n",
            "Epoch 45/50\n",
            "32/32 [==============================] - ETA: 0s - loss: 0.5017 - categorical_accuracy: 0.8125 - top_2_acc: 0.9604 - top_3_acc: 0.9854\n",
            "Epoch 45: val_categorical_accuracy did not improve from 0.90625\n",
            "32/32 [==============================] - 30s 935ms/step - loss: 0.5017 - categorical_accuracy: 0.8125 - top_2_acc: 0.9604 - top_3_acc: 0.9854 - val_loss: 0.5420 - val_categorical_accuracy: 0.8750 - val_top_2_acc: 0.9688 - val_top_3_acc: 1.0000 - lr: 1.0000e-05\n",
            "Epoch 46/50\n",
            "32/32 [==============================] - ETA: 0s - loss: 0.5167 - categorical_accuracy: 0.8037 - top_2_acc: 0.9570 - top_3_acc: 0.9829\n",
            "Epoch 46: val_categorical_accuracy did not improve from 0.90625\n",
            "32/32 [==============================] - 30s 925ms/step - loss: 0.5167 - categorical_accuracy: 0.8037 - top_2_acc: 0.9570 - top_3_acc: 0.9829 - val_loss: 0.6439 - val_categorical_accuracy: 0.7188 - val_top_2_acc: 0.9375 - val_top_3_acc: 1.0000 - lr: 1.0000e-05\n",
            "Epoch 47/50\n",
            "32/32 [==============================] - ETA: 0s - loss: 0.5367 - categorical_accuracy: 0.7993 - top_2_acc: 0.9473 - top_3_acc: 0.9834\n",
            "Epoch 47: val_categorical_accuracy did not improve from 0.90625\n",
            "32/32 [==============================] - 32s 979ms/step - loss: 0.5367 - categorical_accuracy: 0.7993 - top_2_acc: 0.9473 - top_3_acc: 0.9834 - val_loss: 0.6018 - val_categorical_accuracy: 0.7500 - val_top_2_acc: 0.9688 - val_top_3_acc: 1.0000 - lr: 1.0000e-05\n",
            "Epoch 48/50\n",
            "32/32 [==============================] - ETA: 0s - loss: 0.5235 - categorical_accuracy: 0.7915 - top_2_acc: 0.9590 - top_3_acc: 0.9839\n",
            "Epoch 48: val_categorical_accuracy did not improve from 0.90625\n",
            "32/32 [==============================] - 30s 942ms/step - loss: 0.5235 - categorical_accuracy: 0.7915 - top_2_acc: 0.9590 - top_3_acc: 0.9839 - val_loss: 0.6294 - val_categorical_accuracy: 0.7188 - val_top_2_acc: 0.9688 - val_top_3_acc: 1.0000 - lr: 1.0000e-05\n",
            "Epoch 49/50\n",
            "32/32 [==============================] - ETA: 0s - loss: 0.5086 - categorical_accuracy: 0.8208 - top_2_acc: 0.9585 - top_3_acc: 0.9873\n",
            "Epoch 49: val_categorical_accuracy did not improve from 0.90625\n",
            "32/32 [==============================] - 31s 966ms/step - loss: 0.5086 - categorical_accuracy: 0.8208 - top_2_acc: 0.9585 - top_3_acc: 0.9873 - val_loss: 0.6331 - val_categorical_accuracy: 0.6875 - val_top_2_acc: 0.9375 - val_top_3_acc: 1.0000 - lr: 1.0000e-05\n",
            "Epoch 50/50\n",
            "32/32 [==============================] - ETA: 0s - loss: 0.5053 - categorical_accuracy: 0.8027 - top_2_acc: 0.9512 - top_3_acc: 0.9863\n",
            "Epoch 50: val_categorical_accuracy did not improve from 0.90625\n",
            "32/32 [==============================] - 29s 917ms/step - loss: 0.5053 - categorical_accuracy: 0.8027 - top_2_acc: 0.9512 - top_3_acc: 0.9863 - val_loss: 0.5517 - val_categorical_accuracy: 0.8438 - val_top_2_acc: 0.9375 - val_top_3_acc: 1.0000 - lr: 1.0000e-05\n",
            "Done!\n"
          ]
        }
      ],
      "source": [
        "\n",
        "print(\"Training the model...\")\n",
        "\n",
        "history = model.fit(train_flow,steps_per_epoch=32,epochs=50,verbose=1,validation_data=val_flow,validation_steps=32,callbacks = [checkpoint, lr_decay])\n",
        "print(\"Done!\")"
      ]
    },
    {
      "cell_type": "code",
      "source": [
        "_, val_acc, val_top_2_acc, val_top_3_acc = model.evaluate(val_flow, steps=len(val_flow))\n",
        "y_val_true = val_flow.classes\n",
        "y_val_pred = np.argmax(model.predict(val_flow, steps=len(val_flow)), axis=1)\n",
        "val_f1_score = f1_score(y_val_true, y_val_pred, average=\"micro\")\n",
        "\n",
        "print(\"Validation accuracy: {:.4f}\".format(val_acc))\n",
        "print(\"Validation top-2 accuracy: {:.4f}\".format(val_top_2_acc))\n",
        "print(\"Validation top-3 accuracy: {:.4f}\".format(val_top_3_acc))\n",
        "print(\"Validation F1 score: {:.4f}\".format(val_f1_score))"
      ],
      "metadata": {
        "colab": {
          "base_uri": "https://localhost:8080/"
        },
        "id": "PlMWQpbmZKbh",
        "outputId": "5c4d41dc-6167-415a-8952-44d837dcd5a4"
      },
      "execution_count": null,
      "outputs": [
        {
          "output_type": "stream",
          "name": "stdout",
          "text": [
            "444/444 [==============================] - 14s 32ms/step - loss: 0.4688 - categorical_accuracy: 0.8356 - top_2_acc: 0.9505 - top_3_acc: 0.9910\n",
            "444/444 [==============================] - 14s 31ms/step\n",
            "Validation accuracy: 0.8356\n",
            "Validation top-2 accuracy: 0.9505\n",
            "Validation top-3 accuracy: 0.9910\n",
            "Validation F1 score: 0.8131\n"
          ]
        }
      ]
    },
    {
      "cell_type": "code",
      "source": [
        "_, test_acc, test_top_2_acc, test_top_3_acc = model.evaluate(test_flow, steps=len(test_flow))\n",
        "y_test_true = test_flow.classes\n",
        "y_test_pred = np.argmax(model.predict(test_flow, steps=len(test_flow)), axis=1)\n",
        "test_f1_score = f1_score(y_test_true, y_test_pred, average=\"micro\")\n",
        "\n",
        "print(\"Test accuracy: {:.4f}\".format(test_acc))\n",
        "print(\"Test top-2 accuracy: {:.4f}\".format(test_top_2_acc))\n",
        "print(\"Test top-3 accuracy: {:.4f}\".format(test_top_3_acc))\n",
        "print(\"Test F1 score: {:.4f}\".format(test_f1_score))"
      ],
      "metadata": {
        "colab": {
          "base_uri": "https://localhost:8080/"
        },
        "id": "FpybY1G8j_dc",
        "outputId": "b1fcff4a-6681-4b05-decb-d49e3655cd00"
      },
      "execution_count": null,
      "outputs": [
        {
          "output_type": "stream",
          "name": "stdout",
          "text": [
            "118/118 [==============================] - 14s 121ms/step - loss: 1.4783 - categorical_accuracy: 0.5763 - top_2_acc: 0.8136 - top_3_acc: 0.8814\n",
            "118/118 [==============================] - 11s 97ms/step\n",
            "Test accuracy: 0.5763\n",
            "Test top-2 accuracy: 0.8136\n",
            "Test top-3 accuracy: 0.8814\n",
            "Test F1 score: 0.5678\n"
          ]
        }
      ]
    },
    {
      "cell_type": "code",
      "source": [
        "loss_train = history.history[\"loss\"]\n",
        "acc_train = history.history[\"categorical_accuracy\"]\n",
        "loss_val = history.history[\"val_loss\"]\n",
        "acc_val = history.history[\"val_categorical_accuracy\"]\n",
        "epochs = np.arange(1, len(loss_train) + 1)"
      ],
      "metadata": {
        "id": "2yoqpy2HZliC"
      },
      "execution_count": null,
      "outputs": []
    },
    {
      "cell_type": "code",
      "source": [
        "plt.plot(epochs, acc_train, \"bo\", label=\"Training acc\")\n",
        "plt.plot(epochs, acc_val, \"b\", label=\"Validation acc\")\n",
        "plt.title(\"Accuracy\")\n",
        "plt.legend()\n",
        "plt.show()"
      ],
      "metadata": {
        "colab": {
          "base_uri": "https://localhost:8080/",
          "height": 452
        },
        "id": "duszUDQiZwzi",
        "outputId": "4c07f3be-8ff1-4f96-d2e6-e34184c0d7b6"
      },
      "execution_count": null,
      "outputs": [
        {
          "output_type": "display_data",
          "data": {
            "text/plain": [
              "<Figure size 640x480 with 1 Axes>"
            ],
            "image/png": "[encoded data removed]"
          },
          "metadata": {}
        }
      ]
    },
    {
      "cell_type": "code",
      "source": [
        "plt.plot(epochs, loss_train, \"bo\", label=\"Training loss\")\n",
        "plt.plot(epochs, loss_val, \"b\", label=\"Validation loss\")\n",
        "plt.title(\"Losses\")\n",
        "plt.legend()\n",
        "plt.show()"
      ],
      "metadata": {
        "colab": {
          "base_uri": "https://localhost:8080/",
          "height": 452
        },
        "id": "dSJLt8sGZzGR",
        "outputId": "12fd4882-986b-4156-c665-618ba47359f4"
      },
      "execution_count": null,
      "outputs": [
        {
          "output_type": "display_data",
          "data": {
            "text/plain": [
              "<Figure size 640x480 with 1 Axes>"
            ],
            "image/png": "[encoded data removed]"
          },
          "metadata": {}
        }
      ]
    },
    {
      "cell_type": "code",
      "source": [
        "conf_mat = confusion_matrix(y_val_true, y_val_pred)\n",
        "plt.imshow(conf_mat, interpolation=\"nearest\", cmap=plt.cm.Blues)\n",
        "plt.title(\"Confusion matrix\")\n",
        "plt.colorbar()\n",
        "tick_marks = np.arange(len(class_names))\n",
        "plt.xticks(tick_marks, class_names, rotation=85)\n",
        "plt.yticks(tick_marks, class_names)\n",
        "plt.ylabel(\"y_true\")\n",
        "plt.xlabel(\"y_pred\")\n",
        "plt.tight_layout()"
      ],
      "metadata": {
        "colab": {
          "base_uri": "https://localhost:8080/",
          "height": 487
        },
        "id": "yhOm47YYZ3Pa",
        "outputId": "7df2da8c-c6b6-469a-f528-e377a8346c54"
      },
      "execution_count": null,
      "outputs": [
        {
          "output_type": "display_data",
          "data": {
            "text/plain": [
              "<Figure size 640x480 with 2 Axes>"
            ],
            "image/png": "[encoded data removed]"
          },
          "metadata": {}
        }
      ]
    },
    {
      "cell_type": "code",
      "source": [
        "from sklearn.metrics import classification_report\n",
        "import pandas as pd\n",
        "\n",
        "# Make predictions on the test set\n",
        "y_pred = model.predict(test_flow)\n",
        "# Convert predictions to class labels\n",
        "y_pred = np.argmax(y_pred, axis=1)\n",
        "# Convert true labels to class labels\n",
        "y_true = test_flow.classes\n",
        "# Calculate precision, recall, and f1 score\n",
        "report = classification_report(y_true, y_pred, target_names = class_names)\n",
        "print(report)\n"
      ],
      "metadata": {
        "colab": {
          "base_uri": "https://localhost:8080/"
        },
        "id": "JF5kAMZK8FDs",
        "outputId": "66e46a20-96b2-4040-e409-26c2bcc2c5ac"
      },
      "execution_count": null,
      "outputs": [
        {
          "output_type": "stream",
          "name": "stdout",
          "text": [
            "118/118 [==============================] - 15s 128ms/step\n",
            "                            precision    recall  f1-score   support\n",
            "\n",
            "         actinic keratosis       0.86      0.38      0.52        16\n",
            "      basal cell carcinoma       0.60      0.75      0.67        16\n",
            "            dermatofibroma       1.00      0.50      0.67        16\n",
            "                  melanoma       0.14      0.06      0.09        16\n",
            "                     nevus       0.47      0.94      0.62        16\n",
            "pigmented benign keratosis       0.41      0.69      0.51        16\n",
            "      seborrheic keratosis       0.00      0.00      0.00         3\n",
            "   squamous cell carcinoma       0.46      0.38      0.41        16\n",
            "           vascular lesion       0.75      1.00      0.86         3\n",
            "\n",
            "                  accuracy                           0.53       118\n",
            "                 macro avg       0.52      0.52      0.48       118\n",
            "              weighted avg       0.55      0.53      0.50       118\n",
            "\n"
          ]
        },
        {
          "output_type": "stream",
          "name": "stderr",
          "text": [
            "/usr/local/lib/python3.10/dist-packages/sklearn/metrics/_classification.py:1344: UndefinedMetricWarning: Precision and F-score are ill-defined and being set to 0.0 in labels with no predicted samples. Use `zero_division` parameter to control this behavior.\n",
            "  _warn_prf(average, modifier, msg_start, len(result))\n",
            "/usr/local/lib/python3.10/dist-packages/sklearn/metrics/_classification.py:1344: UndefinedMetricWarning: Precision and F-score are ill-defined and being set to 0.0 in labels with no predicted samples. Use `zero_division` parameter to control this behavior.\n",
            "  _warn_prf(average, modifier, msg_start, len(result))\n",
            "/usr/local/lib/python3.10/dist-packages/sklearn/metrics/_classification.py:1344: UndefinedMetricWarning: Precision and F-score are ill-defined and being set to 0.0 in labels with no predicted samples. Use `zero_division` parameter to control this behavior.\n",
            "  _warn_prf(average, modifier, msg_start, len(result))\n"
          ]
        }
      ]
    },
    {
      "cell_type": "code",
      "source": [
        "from sklearn.metrics import classification_report\n",
        "import pandas as pd\n",
        "\n",
        "# Make predictions on the val set\n",
        "y_pred = model.predict(val_flow)\n",
        "# Convert predictions to class labels\n",
        "y_pred = np.argmax(y_pred, axis=1)\n",
        "# Convert true labels to class labels\n",
        "y_true = val_flow.classes\n",
        "# Calculate precision, recall, and f1 score\n",
        "report = classification_report(y_true, y_pred, target_names = class_names)\n",
        "print(report)\n"
      ],
      "metadata": {
        "colab": {
          "base_uri": "https://localhost:8080/"
        },
        "id": "PnvByCKK9b7u",
        "outputId": "f16af799-e376-49bb-acb4-372739880e9b"
      },
      "execution_count": null,
      "outputs": [
        {
          "output_type": "stream",
          "name": "stdout",
          "text": [
            "444/444 [==============================] - 13s 30ms/step\n",
            "                            precision    recall  f1-score   support\n",
            "\n",
            "         actinic keratosis       0.46      0.77      0.58        22\n",
            "      basal cell carcinoma       0.88      0.88      0.88        75\n",
            "            dermatofibroma       1.00      1.00      1.00        19\n",
            "                  melanoma       0.88      0.78      0.83        87\n",
            "                     nevus       0.78      0.70      0.74        71\n",
            "pigmented benign keratosis       0.86      0.88      0.87        92\n",
            "      seborrheic keratosis       0.70      0.47      0.56        15\n",
            "   squamous cell carcinoma       0.65      0.72      0.68        36\n",
            "           vascular lesion       0.96      1.00      0.98        27\n",
            "\n",
            "                  accuracy                           0.81       444\n",
            "                 macro avg       0.80      0.80      0.79       444\n",
            "              weighted avg       0.83      0.81      0.82       444\n",
            "\n"
          ]
        }
      ]
    },
    {
      "cell_type": "code",
      "source": [
        "model.save(\"model.h5\")"
      ],
      "metadata": {
        "id": "rJbX7FgItp5E"
      },
      "execution_count": null,
      "outputs": []
    }
  ],
  "metadata": {
    "accelerator": "GPU",
    "colab": {
      "provenance": []
    },
    "gpuClass": "standard",
    "kernelspec": {
      "display_name": "Python 3",
      "name": "python3"
    },
    "language_info": {
      "name": "python"
    }
  },
  "nbformat": 4,
  "nbformat_minor": 0
}